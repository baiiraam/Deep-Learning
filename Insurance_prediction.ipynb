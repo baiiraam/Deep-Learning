{
  "nbformat": 4,
  "nbformat_minor": 0,
  "metadata": {
    "colab": {
      "provenance": [],
      "authorship_tag": "ABX9TyMHITbfR5zO6LcOHLVYuEsX"
    },
    "kernelspec": {
      "name": "python3",
      "display_name": "Python 3"
    },
    "language_info": {
      "name": "python"
    }
  },
  "cells": [
    {
      "cell_type": "markdown",
      "source": [
        "# Insurance"
      ],
      "metadata": {
        "id": "QJGg3bkF6SVg"
      }
    },
    {
      "cell_type": "code",
      "source": [
        "import pandas as pd\n",
        "import numpy as np\n",
        "import matplotlib.pyplot as plt\n",
        "import tensorflow as tf"
      ],
      "metadata": {
        "id": "-l59h-UUQ3q0"
      },
      "execution_count": null,
      "outputs": []
    },
    {
      "cell_type": "code",
      "source": [
        "train_df = pd.read_csv(\"/content/train (2).csv\")\n",
        "test_df = pd.read_csv(\"/content/test (1).csv\")"
      ],
      "metadata": {
        "id": "CG3J1C_CQuEw"
      },
      "execution_count": null,
      "outputs": []
    },
    {
      "cell_type": "code",
      "source": [
        "train_df.head()"
      ],
      "metadata": {
        "colab": {
          "base_uri": "https://localhost:8080/",
          "height": 360
        },
        "id": "Z0OjNavoRNFT",
        "outputId": "61009ee1-86d1-4158-8c00-318618c79314"
      },
      "execution_count": null,
      "outputs": [
        {
          "output_type": "execute_result",
          "data": {
            "text/plain": [
              "   id   Age  Gender  Annual Income Marital Status  Number of Dependents  \\\n",
              "0   0  19.0  Female        10049.0        Married                   1.0   \n",
              "1   1  39.0  Female        31678.0       Divorced                   3.0   \n",
              "2   2  23.0    Male        25602.0       Divorced                   3.0   \n",
              "3   3  21.0    Male       141855.0        Married                   2.0   \n",
              "4   4  21.0    Male        39651.0         Single                   1.0   \n",
              "\n",
              "  Education Level     Occupation  Health Score  Location  ... Previous Claims  \\\n",
              "0      Bachelor's  Self-Employed     22.598761     Urban  ...             2.0   \n",
              "1        Master's            NaN     15.569731     Rural  ...             1.0   \n",
              "2     High School  Self-Employed     47.177549  Suburban  ...             1.0   \n",
              "3      Bachelor's            NaN     10.938144     Rural  ...             1.0   \n",
              "4      Bachelor's  Self-Employed     20.376094     Rural  ...             0.0   \n",
              "\n",
              "   Vehicle Age  Credit Score  Insurance Duration           Policy Start Date  \\\n",
              "0         17.0         372.0                 5.0  2023-12-23 15:21:39.134960   \n",
              "1         12.0         694.0                 2.0  2023-06-12 15:21:39.111551   \n",
              "2         14.0           NaN                 3.0  2023-09-30 15:21:39.221386   \n",
              "3          0.0         367.0                 1.0  2024-06-12 15:21:39.226954   \n",
              "4          8.0         598.0                 4.0  2021-12-01 15:21:39.252145   \n",
              "\n",
              "  Customer Feedback Smoking Status Exercise Frequency Property Type  \\\n",
              "0              Poor             No             Weekly         House   \n",
              "1           Average            Yes            Monthly         House   \n",
              "2              Good            Yes             Weekly         House   \n",
              "3              Poor            Yes              Daily     Apartment   \n",
              "4              Poor            Yes             Weekly         House   \n",
              "\n",
              "  Premium Amount  \n",
              "0         2869.0  \n",
              "1         1483.0  \n",
              "2          567.0  \n",
              "3          765.0  \n",
              "4         2022.0  \n",
              "\n",
              "[5 rows x 21 columns]"
            ],
            "text/html": [
              "\n",
              "  <div id=\"df-e8013350-9c45-43b5-9d66-a20ecddf0a17\" class=\"colab-df-container\">\n",
              "    <div>\n",
              "<style scoped>\n",
              "    .dataframe tbody tr th:only-of-type {\n",
              "        vertical-align: middle;\n",
              "    }\n",
              "\n",
              "    .dataframe tbody tr th {\n",
              "        vertical-align: top;\n",
              "    }\n",
              "\n",
              "    .dataframe thead th {\n",
              "        text-align: right;\n",
              "    }\n",
              "</style>\n",
              "<table border=\"1\" class=\"dataframe\">\n",
              "  <thead>\n",
              "    <tr style=\"text-align: right;\">\n",
              "      <th></th>\n",
              "      <th>id</th>\n",
              "      <th>Age</th>\n",
              "      <th>Gender</th>\n",
              "      <th>Annual Income</th>\n",
              "      <th>Marital Status</th>\n",
              "      <th>Number of Dependents</th>\n",
              "      <th>Education Level</th>\n",
              "      <th>Occupation</th>\n",
              "      <th>Health Score</th>\n",
              "      <th>Location</th>\n",
              "      <th>...</th>\n",
              "      <th>Previous Claims</th>\n",
              "      <th>Vehicle Age</th>\n",
              "      <th>Credit Score</th>\n",
              "      <th>Insurance Duration</th>\n",
              "      <th>Policy Start Date</th>\n",
              "      <th>Customer Feedback</th>\n",
              "      <th>Smoking Status</th>\n",
              "      <th>Exercise Frequency</th>\n",
              "      <th>Property Type</th>\n",
              "      <th>Premium Amount</th>\n",
              "    </tr>\n",
              "  </thead>\n",
              "  <tbody>\n",
              "    <tr>\n",
              "      <th>0</th>\n",
              "      <td>0</td>\n",
              "      <td>19.0</td>\n",
              "      <td>Female</td>\n",
              "      <td>10049.0</td>\n",
              "      <td>Married</td>\n",
              "      <td>1.0</td>\n",
              "      <td>Bachelor's</td>\n",
              "      <td>Self-Employed</td>\n",
              "      <td>22.598761</td>\n",
              "      <td>Urban</td>\n",
              "      <td>...</td>\n",
              "      <td>2.0</td>\n",
              "      <td>17.0</td>\n",
              "      <td>372.0</td>\n",
              "      <td>5.0</td>\n",
              "      <td>2023-12-23 15:21:39.134960</td>\n",
              "      <td>Poor</td>\n",
              "      <td>No</td>\n",
              "      <td>Weekly</td>\n",
              "      <td>House</td>\n",
              "      <td>2869.0</td>\n",
              "    </tr>\n",
              "    <tr>\n",
              "      <th>1</th>\n",
              "      <td>1</td>\n",
              "      <td>39.0</td>\n",
              "      <td>Female</td>\n",
              "      <td>31678.0</td>\n",
              "      <td>Divorced</td>\n",
              "      <td>3.0</td>\n",
              "      <td>Master's</td>\n",
              "      <td>NaN</td>\n",
              "      <td>15.569731</td>\n",
              "      <td>Rural</td>\n",
              "      <td>...</td>\n",
              "      <td>1.0</td>\n",
              "      <td>12.0</td>\n",
              "      <td>694.0</td>\n",
              "      <td>2.0</td>\n",
              "      <td>2023-06-12 15:21:39.111551</td>\n",
              "      <td>Average</td>\n",
              "      <td>Yes</td>\n",
              "      <td>Monthly</td>\n",
              "      <td>House</td>\n",
              "      <td>1483.0</td>\n",
              "    </tr>\n",
              "    <tr>\n",
              "      <th>2</th>\n",
              "      <td>2</td>\n",
              "      <td>23.0</td>\n",
              "      <td>Male</td>\n",
              "      <td>25602.0</td>\n",
              "      <td>Divorced</td>\n",
              "      <td>3.0</td>\n",
              "      <td>High School</td>\n",
              "      <td>Self-Employed</td>\n",
              "      <td>47.177549</td>\n",
              "      <td>Suburban</td>\n",
              "      <td>...</td>\n",
              "      <td>1.0</td>\n",
              "      <td>14.0</td>\n",
              "      <td>NaN</td>\n",
              "      <td>3.0</td>\n",
              "      <td>2023-09-30 15:21:39.221386</td>\n",
              "      <td>Good</td>\n",
              "      <td>Yes</td>\n",
              "      <td>Weekly</td>\n",
              "      <td>House</td>\n",
              "      <td>567.0</td>\n",
              "    </tr>\n",
              "    <tr>\n",
              "      <th>3</th>\n",
              "      <td>3</td>\n",
              "      <td>21.0</td>\n",
              "      <td>Male</td>\n",
              "      <td>141855.0</td>\n",
              "      <td>Married</td>\n",
              "      <td>2.0</td>\n",
              "      <td>Bachelor's</td>\n",
              "      <td>NaN</td>\n",
              "      <td>10.938144</td>\n",
              "      <td>Rural</td>\n",
              "      <td>...</td>\n",
              "      <td>1.0</td>\n",
              "      <td>0.0</td>\n",
              "      <td>367.0</td>\n",
              "      <td>1.0</td>\n",
              "      <td>2024-06-12 15:21:39.226954</td>\n",
              "      <td>Poor</td>\n",
              "      <td>Yes</td>\n",
              "      <td>Daily</td>\n",
              "      <td>Apartment</td>\n",
              "      <td>765.0</td>\n",
              "    </tr>\n",
              "    <tr>\n",
              "      <th>4</th>\n",
              "      <td>4</td>\n",
              "      <td>21.0</td>\n",
              "      <td>Male</td>\n",
              "      <td>39651.0</td>\n",
              "      <td>Single</td>\n",
              "      <td>1.0</td>\n",
              "      <td>Bachelor's</td>\n",
              "      <td>Self-Employed</td>\n",
              "      <td>20.376094</td>\n",
              "      <td>Rural</td>\n",
              "      <td>...</td>\n",
              "      <td>0.0</td>\n",
              "      <td>8.0</td>\n",
              "      <td>598.0</td>\n",
              "      <td>4.0</td>\n",
              "      <td>2021-12-01 15:21:39.252145</td>\n",
              "      <td>Poor</td>\n",
              "      <td>Yes</td>\n",
              "      <td>Weekly</td>\n",
              "      <td>House</td>\n",
              "      <td>2022.0</td>\n",
              "    </tr>\n",
              "  </tbody>\n",
              "</table>\n",
              "<p>5 rows × 21 columns</p>\n",
              "</div>\n",
              "    <div class=\"colab-df-buttons\">\n",
              "\n",
              "  <div class=\"colab-df-container\">\n",
              "    <button class=\"colab-df-convert\" onclick=\"convertToInteractive('df-e8013350-9c45-43b5-9d66-a20ecddf0a17')\"\n",
              "            title=\"Convert this dataframe to an interactive table.\"\n",
              "            style=\"display:none;\">\n",
              "\n",
              "  <svg xmlns=\"http://www.w3.org/2000/svg\" height=\"24px\" viewBox=\"0 -960 960 960\">\n",
              "    <path d=\"M120-120v-720h720v720H120Zm60-500h600v-160H180v160Zm220 220h160v-160H400v160Zm0 220h160v-160H400v160ZM180-400h160v-160H180v160Zm440 0h160v-160H620v160ZM180-180h160v-160H180v160Zm440 0h160v-160H620v160Z\"/>\n",
              "  </svg>\n",
              "    </button>\n",
              "\n",
              "  <style>\n",
              "    .colab-df-container {\n",
              "      display:flex;\n",
              "      gap: 12px;\n",
              "    }\n",
              "\n",
              "    .colab-df-convert {\n",
              "      background-color: #E8F0FE;\n",
              "      border: none;\n",
              "      border-radius: 50%;\n",
              "      cursor: pointer;\n",
              "      display: none;\n",
              "      fill: #1967D2;\n",
              "      height: 32px;\n",
              "      padding: 0 0 0 0;\n",
              "      width: 32px;\n",
              "    }\n",
              "\n",
              "    .colab-df-convert:hover {\n",
              "      background-color: #E2EBFA;\n",
              "      box-shadow: 0px 1px 2px rgba(60, 64, 67, 0.3), 0px 1px 3px 1px rgba(60, 64, 67, 0.15);\n",
              "      fill: #174EA6;\n",
              "    }\n",
              "\n",
              "    .colab-df-buttons div {\n",
              "      margin-bottom: 4px;\n",
              "    }\n",
              "\n",
              "    [theme=dark] .colab-df-convert {\n",
              "      background-color: #3B4455;\n",
              "      fill: #D2E3FC;\n",
              "    }\n",
              "\n",
              "    [theme=dark] .colab-df-convert:hover {\n",
              "      background-color: #434B5C;\n",
              "      box-shadow: 0px 1px 3px 1px rgba(0, 0, 0, 0.15);\n",
              "      filter: drop-shadow(0px 1px 2px rgba(0, 0, 0, 0.3));\n",
              "      fill: #FFFFFF;\n",
              "    }\n",
              "  </style>\n",
              "\n",
              "    <script>\n",
              "      const buttonEl =\n",
              "        document.querySelector('#df-e8013350-9c45-43b5-9d66-a20ecddf0a17 button.colab-df-convert');\n",
              "      buttonEl.style.display =\n",
              "        google.colab.kernel.accessAllowed ? 'block' : 'none';\n",
              "\n",
              "      async function convertToInteractive(key) {\n",
              "        const element = document.querySelector('#df-e8013350-9c45-43b5-9d66-a20ecddf0a17');\n",
              "        const dataTable =\n",
              "          await google.colab.kernel.invokeFunction('convertToInteractive',\n",
              "                                                    [key], {});\n",
              "        if (!dataTable) return;\n",
              "\n",
              "        const docLinkHtml = 'Like what you see? Visit the ' +\n",
              "          '<a target=\"_blank\" href=https://colab.research.google.com/notebooks/data_table.ipynb>data table notebook</a>'\n",
              "          + ' to learn more about interactive tables.';\n",
              "        element.innerHTML = '';\n",
              "        dataTable['output_type'] = 'display_data';\n",
              "        await google.colab.output.renderOutput(dataTable, element);\n",
              "        const docLink = document.createElement('div');\n",
              "        docLink.innerHTML = docLinkHtml;\n",
              "        element.appendChild(docLink);\n",
              "      }\n",
              "    </script>\n",
              "  </div>\n",
              "\n",
              "\n",
              "<div id=\"df-b4fca86f-7bef-42d9-92c3-8022366b4047\">\n",
              "  <button class=\"colab-df-quickchart\" onclick=\"quickchart('df-b4fca86f-7bef-42d9-92c3-8022366b4047')\"\n",
              "            title=\"Suggest charts\"\n",
              "            style=\"display:none;\">\n",
              "\n",
              "<svg xmlns=\"http://www.w3.org/2000/svg\" height=\"24px\"viewBox=\"0 0 24 24\"\n",
              "     width=\"24px\">\n",
              "    <g>\n",
              "        <path d=\"M19 3H5c-1.1 0-2 .9-2 2v14c0 1.1.9 2 2 2h14c1.1 0 2-.9 2-2V5c0-1.1-.9-2-2-2zM9 17H7v-7h2v7zm4 0h-2V7h2v10zm4 0h-2v-4h2v4z\"/>\n",
              "    </g>\n",
              "</svg>\n",
              "  </button>\n",
              "\n",
              "<style>\n",
              "  .colab-df-quickchart {\n",
              "      --bg-color: #E8F0FE;\n",
              "      --fill-color: #1967D2;\n",
              "      --hover-bg-color: #E2EBFA;\n",
              "      --hover-fill-color: #174EA6;\n",
              "      --disabled-fill-color: #AAA;\n",
              "      --disabled-bg-color: #DDD;\n",
              "  }\n",
              "\n",
              "  [theme=dark] .colab-df-quickchart {\n",
              "      --bg-color: #3B4455;\n",
              "      --fill-color: #D2E3FC;\n",
              "      --hover-bg-color: #434B5C;\n",
              "      --hover-fill-color: #FFFFFF;\n",
              "      --disabled-bg-color: #3B4455;\n",
              "      --disabled-fill-color: #666;\n",
              "  }\n",
              "\n",
              "  .colab-df-quickchart {\n",
              "    background-color: var(--bg-color);\n",
              "    border: none;\n",
              "    border-radius: 50%;\n",
              "    cursor: pointer;\n",
              "    display: none;\n",
              "    fill: var(--fill-color);\n",
              "    height: 32px;\n",
              "    padding: 0;\n",
              "    width: 32px;\n",
              "  }\n",
              "\n",
              "  .colab-df-quickchart:hover {\n",
              "    background-color: var(--hover-bg-color);\n",
              "    box-shadow: 0 1px 2px rgba(60, 64, 67, 0.3), 0 1px 3px 1px rgba(60, 64, 67, 0.15);\n",
              "    fill: var(--button-hover-fill-color);\n",
              "  }\n",
              "\n",
              "  .colab-df-quickchart-complete:disabled,\n",
              "  .colab-df-quickchart-complete:disabled:hover {\n",
              "    background-color: var(--disabled-bg-color);\n",
              "    fill: var(--disabled-fill-color);\n",
              "    box-shadow: none;\n",
              "  }\n",
              "\n",
              "  .colab-df-spinner {\n",
              "    border: 2px solid var(--fill-color);\n",
              "    border-color: transparent;\n",
              "    border-bottom-color: var(--fill-color);\n",
              "    animation:\n",
              "      spin 1s steps(1) infinite;\n",
              "  }\n",
              "\n",
              "  @keyframes spin {\n",
              "    0% {\n",
              "      border-color: transparent;\n",
              "      border-bottom-color: var(--fill-color);\n",
              "      border-left-color: var(--fill-color);\n",
              "    }\n",
              "    20% {\n",
              "      border-color: transparent;\n",
              "      border-left-color: var(--fill-color);\n",
              "      border-top-color: var(--fill-color);\n",
              "    }\n",
              "    30% {\n",
              "      border-color: transparent;\n",
              "      border-left-color: var(--fill-color);\n",
              "      border-top-color: var(--fill-color);\n",
              "      border-right-color: var(--fill-color);\n",
              "    }\n",
              "    40% {\n",
              "      border-color: transparent;\n",
              "      border-right-color: var(--fill-color);\n",
              "      border-top-color: var(--fill-color);\n",
              "    }\n",
              "    60% {\n",
              "      border-color: transparent;\n",
              "      border-right-color: var(--fill-color);\n",
              "    }\n",
              "    80% {\n",
              "      border-color: transparent;\n",
              "      border-right-color: var(--fill-color);\n",
              "      border-bottom-color: var(--fill-color);\n",
              "    }\n",
              "    90% {\n",
              "      border-color: transparent;\n",
              "      border-bottom-color: var(--fill-color);\n",
              "    }\n",
              "  }\n",
              "</style>\n",
              "\n",
              "  <script>\n",
              "    async function quickchart(key) {\n",
              "      const quickchartButtonEl =\n",
              "        document.querySelector('#' + key + ' button');\n",
              "      quickchartButtonEl.disabled = true;  // To prevent multiple clicks.\n",
              "      quickchartButtonEl.classList.add('colab-df-spinner');\n",
              "      try {\n",
              "        const charts = await google.colab.kernel.invokeFunction(\n",
              "            'suggestCharts', [key], {});\n",
              "      } catch (error) {\n",
              "        console.error('Error during call to suggestCharts:', error);\n",
              "      }\n",
              "      quickchartButtonEl.classList.remove('colab-df-spinner');\n",
              "      quickchartButtonEl.classList.add('colab-df-quickchart-complete');\n",
              "    }\n",
              "    (() => {\n",
              "      let quickchartButtonEl =\n",
              "        document.querySelector('#df-b4fca86f-7bef-42d9-92c3-8022366b4047 button');\n",
              "      quickchartButtonEl.style.display =\n",
              "        google.colab.kernel.accessAllowed ? 'block' : 'none';\n",
              "    })();\n",
              "  </script>\n",
              "</div>\n",
              "\n",
              "    </div>\n",
              "  </div>\n"
            ],
            "application/vnd.google.colaboratory.intrinsic+json": {
              "type": "dataframe",
              "variable_name": "train_df"
            }
          },
          "metadata": {},
          "execution_count": 4
        }
      ]
    },
    {
      "cell_type": "code",
      "source": [
        "train_df.columns"
      ],
      "metadata": {
        "colab": {
          "base_uri": "https://localhost:8080/"
        },
        "id": "KAI9bHA3SQoB",
        "outputId": "3b31d4a7-4695-47db-fa66-aedb18297f82"
      },
      "execution_count": null,
      "outputs": [
        {
          "output_type": "execute_result",
          "data": {
            "text/plain": [
              "Index(['id', 'Age', 'Gender', 'Annual Income', 'Marital Status',\n",
              "       'Number of Dependents', 'Education Level', 'Occupation', 'Health Score',\n",
              "       'Location', 'Policy Type', 'Previous Claims', 'Vehicle Age',\n",
              "       'Credit Score', 'Insurance Duration', 'Policy Start Date',\n",
              "       'Customer Feedback', 'Smoking Status', 'Exercise Frequency',\n",
              "       'Property Type', 'Premium Amount'],\n",
              "      dtype='object')"
            ]
          },
          "metadata": {},
          "execution_count": 5
        }
      ]
    },
    {
      "cell_type": "code",
      "source": [
        "train_df.shape"
      ],
      "metadata": {
        "colab": {
          "base_uri": "https://localhost:8080/"
        },
        "id": "KaO-lek6Taba",
        "outputId": "95ec7d16-454b-483f-fd56-c2e93b5aaf17"
      },
      "execution_count": null,
      "outputs": [
        {
          "output_type": "execute_result",
          "data": {
            "text/plain": [
              "(1200000, 21)"
            ]
          },
          "metadata": {},
          "execution_count": 17
        }
      ]
    },
    {
      "cell_type": "code",
      "source": [
        "train_df.isna().sum()"
      ],
      "metadata": {
        "colab": {
          "base_uri": "https://localhost:8080/",
          "height": 743
        },
        "id": "a5cJ3iACd2Mf",
        "outputId": "b5c481e9-ba51-4bfd-eb68-8402f8463ca2"
      },
      "execution_count": null,
      "outputs": [
        {
          "output_type": "execute_result",
          "data": {
            "text/plain": [
              "id                           0\n",
              "Age                      18705\n",
              "Gender                       0\n",
              "Annual Income            44949\n",
              "Marital Status           18529\n",
              "Number of Dependents    109672\n",
              "Education Level              0\n",
              "Occupation              358075\n",
              "Health Score             74076\n",
              "Location                     0\n",
              "Policy Type                  0\n",
              "Previous Claims         364029\n",
              "Vehicle Age                  6\n",
              "Credit Score            137882\n",
              "Insurance Duration           1\n",
              "Policy Start Date            0\n",
              "Customer Feedback        77824\n",
              "Smoking Status               0\n",
              "Exercise Frequency           0\n",
              "Property Type                0\n",
              "Premium Amount               0\n",
              "dtype: int64"
            ],
            "text/html": [
              "<div>\n",
              "<style scoped>\n",
              "    .dataframe tbody tr th:only-of-type {\n",
              "        vertical-align: middle;\n",
              "    }\n",
              "\n",
              "    .dataframe tbody tr th {\n",
              "        vertical-align: top;\n",
              "    }\n",
              "\n",
              "    .dataframe thead th {\n",
              "        text-align: right;\n",
              "    }\n",
              "</style>\n",
              "<table border=\"1\" class=\"dataframe\">\n",
              "  <thead>\n",
              "    <tr style=\"text-align: right;\">\n",
              "      <th></th>\n",
              "      <th>0</th>\n",
              "    </tr>\n",
              "  </thead>\n",
              "  <tbody>\n",
              "    <tr>\n",
              "      <th>id</th>\n",
              "      <td>0</td>\n",
              "    </tr>\n",
              "    <tr>\n",
              "      <th>Age</th>\n",
              "      <td>18705</td>\n",
              "    </tr>\n",
              "    <tr>\n",
              "      <th>Gender</th>\n",
              "      <td>0</td>\n",
              "    </tr>\n",
              "    <tr>\n",
              "      <th>Annual Income</th>\n",
              "      <td>44949</td>\n",
              "    </tr>\n",
              "    <tr>\n",
              "      <th>Marital Status</th>\n",
              "      <td>18529</td>\n",
              "    </tr>\n",
              "    <tr>\n",
              "      <th>Number of Dependents</th>\n",
              "      <td>109672</td>\n",
              "    </tr>\n",
              "    <tr>\n",
              "      <th>Education Level</th>\n",
              "      <td>0</td>\n",
              "    </tr>\n",
              "    <tr>\n",
              "      <th>Occupation</th>\n",
              "      <td>358075</td>\n",
              "    </tr>\n",
              "    <tr>\n",
              "      <th>Health Score</th>\n",
              "      <td>74076</td>\n",
              "    </tr>\n",
              "    <tr>\n",
              "      <th>Location</th>\n",
              "      <td>0</td>\n",
              "    </tr>\n",
              "    <tr>\n",
              "      <th>Policy Type</th>\n",
              "      <td>0</td>\n",
              "    </tr>\n",
              "    <tr>\n",
              "      <th>Previous Claims</th>\n",
              "      <td>364029</td>\n",
              "    </tr>\n",
              "    <tr>\n",
              "      <th>Vehicle Age</th>\n",
              "      <td>6</td>\n",
              "    </tr>\n",
              "    <tr>\n",
              "      <th>Credit Score</th>\n",
              "      <td>137882</td>\n",
              "    </tr>\n",
              "    <tr>\n",
              "      <th>Insurance Duration</th>\n",
              "      <td>1</td>\n",
              "    </tr>\n",
              "    <tr>\n",
              "      <th>Policy Start Date</th>\n",
              "      <td>0</td>\n",
              "    </tr>\n",
              "    <tr>\n",
              "      <th>Customer Feedback</th>\n",
              "      <td>77824</td>\n",
              "    </tr>\n",
              "    <tr>\n",
              "      <th>Smoking Status</th>\n",
              "      <td>0</td>\n",
              "    </tr>\n",
              "    <tr>\n",
              "      <th>Exercise Frequency</th>\n",
              "      <td>0</td>\n",
              "    </tr>\n",
              "    <tr>\n",
              "      <th>Property Type</th>\n",
              "      <td>0</td>\n",
              "    </tr>\n",
              "    <tr>\n",
              "      <th>Premium Amount</th>\n",
              "      <td>0</td>\n",
              "    </tr>\n",
              "  </tbody>\n",
              "</table>\n",
              "</div><br><label><b>dtype:</b> int64</label>"
            ]
          },
          "metadata": {},
          "execution_count": 18
        }
      ]
    },
    {
      "cell_type": "code",
      "source": [
        "train_df = train_df.drop('id', axis=1)"
      ],
      "metadata": {
        "id": "H_8Jp8TveKPX"
      },
      "execution_count": null,
      "outputs": []
    },
    {
      "cell_type": "code",
      "source": [
        "train_df.isna().sum().sort_values(ascending=False)"
      ],
      "metadata": {
        "colab": {
          "base_uri": "https://localhost:8080/",
          "height": 711
        },
        "id": "Kb83yoBXfe4u",
        "outputId": "49355ec9-b0e5-430c-b9b4-691fa21a29a0"
      },
      "execution_count": null,
      "outputs": [
        {
          "output_type": "execute_result",
          "data": {
            "text/plain": [
              "Previous Claims         364029\n",
              "Occupation              358075\n",
              "Credit Score            137882\n",
              "Number of Dependents    109672\n",
              "Customer Feedback        77824\n",
              "Health Score             74076\n",
              "Annual Income            44949\n",
              "Age                      18705\n",
              "Marital Status           18529\n",
              "Vehicle Age                  6\n",
              "Insurance Duration           1\n",
              "Location                     0\n",
              "Policy Type                  0\n",
              "Gender                       0\n",
              "Education Level              0\n",
              "Policy Start Date            0\n",
              "Smoking Status               0\n",
              "Exercise Frequency           0\n",
              "Property Type                0\n",
              "Premium Amount               0\n",
              "dtype: int64"
            ],
            "text/html": [
              "<div>\n",
              "<style scoped>\n",
              "    .dataframe tbody tr th:only-of-type {\n",
              "        vertical-align: middle;\n",
              "    }\n",
              "\n",
              "    .dataframe tbody tr th {\n",
              "        vertical-align: top;\n",
              "    }\n",
              "\n",
              "    .dataframe thead th {\n",
              "        text-align: right;\n",
              "    }\n",
              "</style>\n",
              "<table border=\"1\" class=\"dataframe\">\n",
              "  <thead>\n",
              "    <tr style=\"text-align: right;\">\n",
              "      <th></th>\n",
              "      <th>0</th>\n",
              "    </tr>\n",
              "  </thead>\n",
              "  <tbody>\n",
              "    <tr>\n",
              "      <th>Previous Claims</th>\n",
              "      <td>364029</td>\n",
              "    </tr>\n",
              "    <tr>\n",
              "      <th>Occupation</th>\n",
              "      <td>358075</td>\n",
              "    </tr>\n",
              "    <tr>\n",
              "      <th>Credit Score</th>\n",
              "      <td>137882</td>\n",
              "    </tr>\n",
              "    <tr>\n",
              "      <th>Number of Dependents</th>\n",
              "      <td>109672</td>\n",
              "    </tr>\n",
              "    <tr>\n",
              "      <th>Customer Feedback</th>\n",
              "      <td>77824</td>\n",
              "    </tr>\n",
              "    <tr>\n",
              "      <th>Health Score</th>\n",
              "      <td>74076</td>\n",
              "    </tr>\n",
              "    <tr>\n",
              "      <th>Annual Income</th>\n",
              "      <td>44949</td>\n",
              "    </tr>\n",
              "    <tr>\n",
              "      <th>Age</th>\n",
              "      <td>18705</td>\n",
              "    </tr>\n",
              "    <tr>\n",
              "      <th>Marital Status</th>\n",
              "      <td>18529</td>\n",
              "    </tr>\n",
              "    <tr>\n",
              "      <th>Vehicle Age</th>\n",
              "      <td>6</td>\n",
              "    </tr>\n",
              "    <tr>\n",
              "      <th>Insurance Duration</th>\n",
              "      <td>1</td>\n",
              "    </tr>\n",
              "    <tr>\n",
              "      <th>Location</th>\n",
              "      <td>0</td>\n",
              "    </tr>\n",
              "    <tr>\n",
              "      <th>Policy Type</th>\n",
              "      <td>0</td>\n",
              "    </tr>\n",
              "    <tr>\n",
              "      <th>Gender</th>\n",
              "      <td>0</td>\n",
              "    </tr>\n",
              "    <tr>\n",
              "      <th>Education Level</th>\n",
              "      <td>0</td>\n",
              "    </tr>\n",
              "    <tr>\n",
              "      <th>Policy Start Date</th>\n",
              "      <td>0</td>\n",
              "    </tr>\n",
              "    <tr>\n",
              "      <th>Smoking Status</th>\n",
              "      <td>0</td>\n",
              "    </tr>\n",
              "    <tr>\n",
              "      <th>Exercise Frequency</th>\n",
              "      <td>0</td>\n",
              "    </tr>\n",
              "    <tr>\n",
              "      <th>Property Type</th>\n",
              "      <td>0</td>\n",
              "    </tr>\n",
              "    <tr>\n",
              "      <th>Premium Amount</th>\n",
              "      <td>0</td>\n",
              "    </tr>\n",
              "  </tbody>\n",
              "</table>\n",
              "</div><br><label><b>dtype:</b> int64</label>"
            ]
          },
          "metadata": {},
          "execution_count": 22
        }
      ]
    },
    {
      "cell_type": "code",
      "source": [
        "train_df_copy = train_df.copy()"
      ],
      "metadata": {
        "id": "x7HdXhtnja5e"
      },
      "execution_count": null,
      "outputs": []
    },
    {
      "cell_type": "code",
      "source": [
        "train_df_copy = train_df_copy.dropna()"
      ],
      "metadata": {
        "id": "jvXYAJXFrkwY"
      },
      "execution_count": null,
      "outputs": []
    },
    {
      "cell_type": "code",
      "source": [
        "train_df_copy.shape"
      ],
      "metadata": {
        "colab": {
          "base_uri": "https://localhost:8080/"
        },
        "id": "Xk6QBhm6rksX",
        "outputId": "eabd3461-82c7-4007-82bf-166f2fb16f68"
      },
      "execution_count": null,
      "outputs": [
        {
          "output_type": "execute_result",
          "data": {
            "text/plain": [
              "(384004, 20)"
            ]
          },
          "metadata": {},
          "execution_count": 40
        }
      ]
    },
    {
      "cell_type": "code",
      "source": [
        "train_df_copy.columns"
      ],
      "metadata": {
        "colab": {
          "base_uri": "https://localhost:8080/"
        },
        "id": "AqZ2b6GqrknF",
        "outputId": "5ba09b80-3ac5-4b98-94b8-2d6d5db44474"
      },
      "execution_count": null,
      "outputs": [
        {
          "output_type": "execute_result",
          "data": {
            "text/plain": [
              "Index(['Age', 'Gender', 'Annual Income', 'Marital Status',\n",
              "       'Number of Dependents', 'Education Level', 'Occupation', 'Health Score',\n",
              "       'Location', 'Policy Type', 'Previous Claims', 'Vehicle Age',\n",
              "       'Credit Score', 'Insurance Duration', 'Policy Start Date',\n",
              "       'Customer Feedback', 'Smoking Status', 'Exercise Frequency',\n",
              "       'Property Type', 'Premium Amount'],\n",
              "      dtype='object')"
            ]
          },
          "metadata": {},
          "execution_count": 41
        }
      ]
    },
    {
      "cell_type": "code",
      "source": [
        "num_cols = ['Age', 'Annual Income', 'Health Score', 'Previous Claims', 'Vehicle Age', 'Credit Score', 'Insurance Duration']\n",
        "cat_cols_onehot = ['Gender', 'Marital Status', 'Occupation', 'Location', 'Smoking Status', 'Property Type']\n",
        "cat_cols_ordinal = ['Education Level', 'Number of Dependents', 'Policy Type', 'Customer Feedback', 'Exercise Frequency']\n",
        "\n",
        "ordinal_categories = [['High School', 'Bachelor\\'s', 'Master\\'s', 'PhD'],\n",
        "                                      [0.0, 1.0, 2.0, 3.0, 4.0],\n",
        "                                      ['Basic', 'Comprehensive', 'Premium'],\n",
        "                                      ['Poor', 'Average', 'Good'],\n",
        "                                      ['Rarely', 'Monthly', 'Weekly', 'Daily']]\n",
        "\n",
        "drop_cols = ['id', 'Policy Start Date']"
      ],
      "metadata": {
        "id": "_tQOqj_4sFSB"
      },
      "execution_count": null,
      "outputs": []
    },
    {
      "cell_type": "code",
      "source": [
        "X = train_df_copy.drop('Premium Amount', axis=1)\n",
        "y = train_df_copy['Premium Amount']"
      ],
      "metadata": {
        "id": "qxKePdq1wiUv"
      },
      "execution_count": null,
      "outputs": []
    },
    {
      "cell_type": "code",
      "source": [
        "from sklearn.compose import make_column_transformer\n",
        "from sklearn.model_selection import train_test_split\n",
        "from sklearn.preprocessing import OneHotEncoder, StandardScaler, OrdinalEncoder\n",
        "\n",
        "ct = make_column_transformer(\n",
        "        (OneHotEncoder(), cat_cols_onehot),\n",
        "        (OrdinalEncoder(categories=ordinal_categories), cat_cols_ordinal),\n",
        "        (StandardScaler(), num_cols)\n",
        ")\n",
        "\n",
        "X_train, X_val, y_train, y_val = train_test_split(X, y, test_size=0.2, random_state=42)\n",
        "\n",
        "X_train_transformed = ct.fit_transform(X_train)\n",
        "X_val_transformed = ct.transform(X_val)"
      ],
      "metadata": {
        "id": "hwthzglPwp3P"
      },
      "execution_count": null,
      "outputs": []
    },
    {
      "cell_type": "code",
      "source": [
        "X_train_transformed.shape"
      ],
      "metadata": {
        "colab": {
          "base_uri": "https://localhost:8080/"
        },
        "id": "IfCDTr-5x2wS",
        "outputId": "360e311c-732a-4f51-d22a-868e22a53792"
      },
      "execution_count": null,
      "outputs": [
        {
          "output_type": "execute_result",
          "data": {
            "text/plain": [
              "(307203, 28)"
            ]
          },
          "metadata": {},
          "execution_count": 74
        }
      ]
    },
    {
      "cell_type": "code",
      "source": [
        "model = tf.keras.Sequential([\n",
        "    tf.keras.layers.Input(shape=X_train_transformed.shape[1:]),\n",
        "    tf.keras.layers.Dense(units=128, kernel_initializer='he_normal', use_bias=False),\n",
        "    tf.keras.layers.BatchNormalization(),\n",
        "    tf.keras.layers.ReLU(),\n",
        "\n",
        "    tf.keras.layers.Dense(units=64, kernel_initializer='he_normal', use_bias=False),\n",
        "    tf.keras.layers.BatchNormalization(),\n",
        "    tf.keras.layers.ReLU(),\n",
        "\n",
        "    tf.keras.layers.Dense(units=32, kernel_initializer='he_normal', use_bias=False),\n",
        "    tf.keras.layers.BatchNormalization(),\n",
        "    tf.keras.layers.ReLU(),\n",
        "\n",
        "    tf.keras.layers.Dense(units=16, kernel_initializer='he_normal', use_bias=False),\n",
        "    tf.keras.layers.BatchNormalization(),\n",
        "    tf.keras.layers.ReLU(),\n",
        "\n",
        "    tf.keras.layers.Dense(units=1),\n",
        "    tf.keras.layers.ReLU()\n",
        "])"
      ],
      "metadata": {
        "id": "MI7z9dA1wqds"
      },
      "execution_count": null,
      "outputs": []
    },
    {
      "cell_type": "code",
      "source": [
        "model.compile(loss=tf.keras.losses.MeanAbsoluteError(),\n",
        "              optimizer=tf.keras.optimizers.Adam(learning_rate=0.01),\n",
        "              metrics=['RootMeanSquaredError'])"
      ],
      "metadata": {
        "id": "A-SQY9jIwqhl"
      },
      "execution_count": null,
      "outputs": []
    },
    {
      "cell_type": "code",
      "source": [
        "mcb = tf.keras.callbacks.ModelCheckpoint(\n",
        "    filepath='my_model_for_insurance.keras',\n",
        "    monitor='val_loss',\n",
        "    save_best_only=True\n",
        ")\n",
        "\n",
        "escb = tf.keras.callbacks.EarlyStopping(\n",
        "    monitor='val_loss',\n",
        "    mode='min',\n",
        "    patience=10,\n",
        "    restore_best_weights=True\n",
        ")\n",
        "\n",
        "rlrop = tf.keras.callbacks.ReduceLROnPlateau(\n",
        "    monitor='val_loss',\n",
        "    mode='min',\n",
        "    factor=0.5,\n",
        "    patience=5\n",
        ")"
      ],
      "metadata": {
        "id": "srq0L3ErwqmM"
      },
      "execution_count": null,
      "outputs": []
    },
    {
      "cell_type": "code",
      "source": [
        "model.fit(X_train_transformed, y_train, epochs=20, validation_data=(X_val_transformed, y_val), callbacks=[mcb, escb, rlrop])"
      ],
      "metadata": {
        "colab": {
          "base_uri": "https://localhost:8080/"
        },
        "id": "6gV5E1GkwqqL",
        "outputId": "c448b481-0916-47f5-f46c-67823db8712b"
      },
      "execution_count": null,
      "outputs": [
        {
          "output_type": "stream",
          "name": "stdout",
          "text": [
            "Epoch 1/20\n",
            "\u001b[1m9601/9601\u001b[0m \u001b[32m━━━━━━━━━━━━━━━━━━━━\u001b[0m\u001b[37m\u001b[0m \u001b[1m26s\u001b[0m 2ms/step - RootMeanSquaredError: 984.1598 - loss: 699.5113 - val_RootMeanSquaredError: 896.7852 - val_loss: 629.2333 - learning_rate: 0.0100\n",
            "Epoch 2/20\n",
            "\u001b[1m9601/9601\u001b[0m \u001b[32m━━━━━━━━━━━━━━━━━━━━\u001b[0m\u001b[37m\u001b[0m \u001b[1m39s\u001b[0m 2ms/step - RootMeanSquaredError: 895.7831 - loss: 630.0406 - val_RootMeanSquaredError: 889.5601 - val_loss: 626.9978 - learning_rate: 0.0100\n",
            "Epoch 3/20\n",
            "\u001b[1m9601/9601\u001b[0m \u001b[32m━━━━━━━━━━━━━━━━━━━━\u001b[0m\u001b[37m\u001b[0m \u001b[1m22s\u001b[0m 2ms/step - RootMeanSquaredError: 893.5111 - loss: 630.7130 - val_RootMeanSquaredError: 881.1863 - val_loss: 627.6924 - learning_rate: 0.0100\n",
            "Epoch 4/20\n",
            "\u001b[1m9601/9601\u001b[0m \u001b[32m━━━━━━━━━━━━━━━━━━━━\u001b[0m\u001b[37m\u001b[0m \u001b[1m21s\u001b[0m 2ms/step - RootMeanSquaredError: 890.2569 - loss: 628.5397 - val_RootMeanSquaredError: 883.9883 - val_loss: 626.0145 - learning_rate: 0.0100\n",
            "Epoch 5/20\n",
            "\u001b[1m9601/9601\u001b[0m \u001b[32m━━━━━━━━━━━━━━━━━━━━\u001b[0m\u001b[37m\u001b[0m \u001b[1m47s\u001b[0m 3ms/step - RootMeanSquaredError: 889.7706 - loss: 628.3316 - val_RootMeanSquaredError: 879.1515 - val_loss: 627.3661 - learning_rate: 0.0100\n",
            "Epoch 6/20\n",
            "\u001b[1m9601/9601\u001b[0m \u001b[32m━━━━━━━━━━━━━━━━━━━━\u001b[0m\u001b[37m\u001b[0m \u001b[1m24s\u001b[0m 2ms/step - RootMeanSquaredError: 889.8150 - loss: 628.6257 - val_RootMeanSquaredError: 891.1800 - val_loss: 626.7000 - learning_rate: 0.0100\n",
            "Epoch 7/20\n",
            "\u001b[1m9601/9601\u001b[0m \u001b[32m━━━━━━━━━━━━━━━━━━━━\u001b[0m\u001b[37m\u001b[0m \u001b[1m24s\u001b[0m 2ms/step - RootMeanSquaredError: 889.9564 - loss: 628.4062 - val_RootMeanSquaredError: 888.5714 - val_loss: 625.6607 - learning_rate: 0.0100\n",
            "Epoch 8/20\n",
            "\u001b[1m9601/9601\u001b[0m \u001b[32m━━━━━━━━━━━━━━━━━━━━\u001b[0m\u001b[37m\u001b[0m \u001b[1m24s\u001b[0m 2ms/step - RootMeanSquaredError: 889.8497 - loss: 627.3713 - val_RootMeanSquaredError: 891.9166 - val_loss: 624.8478 - learning_rate: 0.0100\n",
            "Epoch 9/20\n",
            "\u001b[1m9601/9601\u001b[0m \u001b[32m━━━━━━━━━━━━━━━━━━━━\u001b[0m\u001b[37m\u001b[0m \u001b[1m51s\u001b[0m 3ms/step - RootMeanSquaredError: 888.6454 - loss: 627.1936 - val_RootMeanSquaredError: 882.8263 - val_loss: 625.0676 - learning_rate: 0.0100\n",
            "Epoch 10/20\n",
            "\u001b[1m9601/9601\u001b[0m \u001b[32m━━━━━━━━━━━━━━━━━━━━\u001b[0m\u001b[37m\u001b[0m \u001b[1m43s\u001b[0m 4ms/step - RootMeanSquaredError: 892.4040 - loss: 630.0494 - val_RootMeanSquaredError: 886.9108 - val_loss: 625.5446 - learning_rate: 0.0100\n",
            "Epoch 11/20\n",
            "\u001b[1m9601/9601\u001b[0m \u001b[32m━━━━━━━━━━━━━━━━━━━━\u001b[0m\u001b[37m\u001b[0m \u001b[1m41s\u001b[0m 4ms/step - RootMeanSquaredError: 887.3362 - loss: 626.3647 - val_RootMeanSquaredError: 896.0397 - val_loss: 626.1328 - learning_rate: 0.0100\n",
            "Epoch 12/20\n",
            "\u001b[1m9601/9601\u001b[0m \u001b[32m━━━━━━━━━━━━━━━━━━━━\u001b[0m\u001b[37m\u001b[0m \u001b[1m74s\u001b[0m 3ms/step - RootMeanSquaredError: 892.0519 - loss: 627.9699 - val_RootMeanSquaredError: 886.3593 - val_loss: 625.7952 - learning_rate: 0.0100\n",
            "Epoch 13/20\n",
            "\u001b[1m9601/9601\u001b[0m \u001b[32m━━━━━━━━━━━━━━━━━━━━\u001b[0m\u001b[37m\u001b[0m \u001b[1m31s\u001b[0m 2ms/step - RootMeanSquaredError: 893.6016 - loss: 629.1201 - val_RootMeanSquaredError: 894.4068 - val_loss: 625.5112 - learning_rate: 0.0100\n",
            "Epoch 14/20\n",
            "\u001b[1m9601/9601\u001b[0m \u001b[32m━━━━━━━━━━━━━━━━━━━━\u001b[0m\u001b[37m\u001b[0m \u001b[1m47s\u001b[0m 3ms/step - RootMeanSquaredError: 890.9470 - loss: 627.4348 - val_RootMeanSquaredError: 889.3065 - val_loss: 624.4552 - learning_rate: 0.0050\n",
            "Epoch 15/20\n",
            "\u001b[1m9601/9601\u001b[0m \u001b[32m━━━━━━━━━━━━━━━━━━━━\u001b[0m\u001b[37m\u001b[0m \u001b[1m33s\u001b[0m 2ms/step - RootMeanSquaredError: 888.1843 - loss: 625.0416 - val_RootMeanSquaredError: 889.0116 - val_loss: 624.6034 - learning_rate: 0.0050\n",
            "Epoch 16/20\n",
            "\u001b[1m9601/9601\u001b[0m \u001b[32m━━━━━━━━━━━━━━━━━━━━\u001b[0m\u001b[37m\u001b[0m \u001b[1m22s\u001b[0m 2ms/step - RootMeanSquaredError: 887.4247 - loss: 625.8705 - val_RootMeanSquaredError: 888.9277 - val_loss: 625.3094 - learning_rate: 0.0050\n",
            "Epoch 17/20\n",
            "\u001b[1m9601/9601\u001b[0m \u001b[32m━━━━━━━━━━━━━━━━━━━━\u001b[0m\u001b[37m\u001b[0m \u001b[1m22s\u001b[0m 2ms/step - RootMeanSquaredError: 889.8989 - loss: 627.1883 - val_RootMeanSquaredError: 889.3273 - val_loss: 623.8300 - learning_rate: 0.0050\n",
            "Epoch 18/20\n",
            "\u001b[1m9601/9601\u001b[0m \u001b[32m━━━━━━━━━━━━━━━━━━━━\u001b[0m\u001b[37m\u001b[0m \u001b[1m43s\u001b[0m 2ms/step - RootMeanSquaredError: 891.1792 - loss: 627.0256 - val_RootMeanSquaredError: 887.8806 - val_loss: 625.5190 - learning_rate: 0.0050\n",
            "Epoch 19/20\n",
            "\u001b[1m9601/9601\u001b[0m \u001b[32m━━━━━━━━━━━━━━━━━━━━\u001b[0m\u001b[37m\u001b[0m \u001b[1m39s\u001b[0m 2ms/step - RootMeanSquaredError: 886.7728 - loss: 625.3481 - val_RootMeanSquaredError: 886.6754 - val_loss: 624.2745 - learning_rate: 0.0050\n",
            "Epoch 20/20\n",
            "\u001b[1m9601/9601\u001b[0m \u001b[32m━━━━━━━━━━━━━━━━━━━━\u001b[0m\u001b[37m\u001b[0m \u001b[1m24s\u001b[0m 2ms/step - RootMeanSquaredError: 890.2018 - loss: 627.6906 - val_RootMeanSquaredError: 891.4317 - val_loss: 624.5149 - learning_rate: 0.0050\n"
          ]
        },
        {
          "output_type": "execute_result",
          "data": {
            "text/plain": [
              "<keras.src.callbacks.history.History at 0x7bf0268ea650>"
            ]
          },
          "metadata": {},
          "execution_count": 86
        }
      ]
    },
    {
      "cell_type": "code",
      "source": [
        "plt.plot(model.history.history['RootMeanSquaredError'], label='train rmse')\n",
        "plt.plot(model.history.history['val_RootMeanSquaredError'], label='val rmse')\n",
        "plt.legend()\n",
        "plt.grid()\n",
        "plt.show()\n",
        "\n",
        "plt.plot(model.history.history['loss'], label='train loss')\n",
        "plt.plot(model.history.history['val_loss'], label='val loss')\n",
        "plt.legend()\n",
        "plt.grid()\n",
        "plt.show()"
      ],
      "metadata": {
        "colab": {
          "base_uri": "https://localhost:8080/",
          "height": 843
        },
        "id": "c0JPkpAUwquE",
        "outputId": "70e8514f-08c4-42e3-c49b-443b9645c53f"
      },
      "execution_count": null,
      "outputs": [
        {
          "output_type": "display_data",
          "data": {
            "text/plain": [
              "<Figure size 640x480 with 1 Axes>"
            ],
            "image/png": "[encoded data removed]"
          },
          "metadata": {}
        },
        {
          "output_type": "display_data",
          "data": {
            "text/plain": [
              "<Figure size 640x480 with 1 Axes>"
            ],
            "image/png": "[encoded data removed]"
          },
          "metadata": {}
        }
      ]
    }
  ]
}