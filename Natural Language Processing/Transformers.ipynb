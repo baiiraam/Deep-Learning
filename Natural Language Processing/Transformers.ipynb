{
  "nbformat": 4,
  "nbformat_minor": 0,
  "metadata": {
    "colab": {
      "provenance": [],
      "authorship_tag": "ABX9TyMvwE8OqfUh5TiN+6kyo33s"
    },
    "kernelspec": {
      "name": "python3",
      "display_name": "Python 3"
    },
    "language_info": {
      "name": "python"
    }
  },
  "cells": [
    {
      "cell_type": "code",
      "execution_count": null,
      "metadata": {
        "id": "RkOgVYzX5WrB"
      },
      "outputs": [],
      "source": [
        "!pip install transformers"
      ]
    },
    {
      "cell_type": "markdown",
      "source": [
        "# Sentiment Clasification"
      ],
      "metadata": {
        "id": "juPGyBl85h5N"
      }
    },
    {
      "cell_type": "code",
      "source": [
        "from transformers import pipeline\n",
        "\n",
        "classifier = pipeline('sentiment-analysis')\n",
        "\n",
        "classifier('Tomorrow I will gamble')"
      ],
      "metadata": {
        "id": "gQ6mQQPJ5pv_"
      },
      "execution_count": null,
      "outputs": []
    },
    {
      "cell_type": "code",
      "source": [
        "classifier('I am not sure about this')"
      ],
      "metadata": {
        "id": "Y_LRYU8t56tL"
      },
      "execution_count": null,
      "outputs": []
    },
    {
      "cell_type": "code",
      "source": [
        "classifier('nooooo')"
      ],
      "metadata": {
        "id": "H9NYsU5v6FsX"
      },
      "execution_count": null,
      "outputs": []
    },
    {
      "cell_type": "code",
      "source": [
        "classifier([\n",
        "    'I love gambling',\n",
        "    'I love to exercise, but I cannot do it right now'\n",
        "])"
      ],
      "metadata": {
        "id": "qmqgjqz66IUe"
      },
      "execution_count": null,
      "outputs": []
    },
    {
      "cell_type": "code",
      "source": [
        "classifier([\n",
        "    'Great actors, great director, great car, but terrible acting'\n",
        "])"
      ],
      "metadata": {
        "id": "37suLSk36VWI"
      },
      "execution_count": null,
      "outputs": []
    },
    {
      "cell_type": "code",
      "source": [
        "classifier('I will forget this')"
      ],
      "metadata": {
        "id": "LbAbsRR26bCt"
      },
      "execution_count": null,
      "outputs": []
    },
    {
      "cell_type": "markdown",
      "source": [
        "13/05/2025"
      ],
      "metadata": {
        "id": "h5mqx5n1Drkc"
      }
    },
    {
      "cell_type": "markdown",
      "source": [
        "# Zero-Shot Classification"
      ],
      "metadata": {
        "id": "Ma7OptKyNzn0"
      }
    },
    {
      "cell_type": "code",
      "source": [
        "from transformers import pipeline\n",
        "\n",
        "classifier = pipeline('zero-shot-classification')\n",
        "classifier('I love to go gambling with my friend Mordecai and Rigby',\n",
        "           candidate_labels = ['education', 'fun', 'travel', 'gambling'])"
      ],
      "metadata": {
        "id": "cyFb2x6FKABe"
      },
      "execution_count": null,
      "outputs": []
    },
    {
      "cell_type": "markdown",
      "source": [
        "# Text-generation"
      ],
      "metadata": {
        "id": "4S8yXZXlKARz"
      }
    },
    {
      "cell_type": "code",
      "source": [
        "generator = pipeline('text-generation')\n",
        "generator('Learning AI is really important because')"
      ],
      "metadata": {
        "id": "baBtuxvZOOqA"
      },
      "execution_count": null,
      "outputs": []
    },
    {
      "cell_type": "markdown",
      "source": [
        "# Using Different HuggingFace models"
      ],
      "metadata": {
        "id": "xkztI5dDOOta"
      }
    },
    {
      "cell_type": "code",
      "source": [
        "generator = pipeline('text-generation', model='HuggingFaceTB/SmolLM2-360M')\n",
        "generator('Learning AI is really important because',\n",
        "          max_length=30)"
      ],
      "metadata": {
        "id": "rmr28aqqOOwN"
      },
      "execution_count": null,
      "outputs": []
    },
    {
      "cell_type": "code",
      "source": [
        "generator('Learning AI is really important because',\n",
        "          max_length=90)"
      ],
      "metadata": {
        "id": "i3BuBh01Qu21"
      },
      "execution_count": null,
      "outputs": []
    },
    {
      "cell_type": "markdown",
      "source": [
        "# Mask-filling"
      ],
      "metadata": {
        "id": "874hue4rRWnE"
      }
    },
    {
      "cell_type": "code",
      "source": [
        "unmasker = pipeline('fill-mask')\n",
        "unmasker(\"This course will teach you all about <mask> models.\", top_k=2)"
      ],
      "metadata": {
        "id": "JujXhmS_KAU1"
      },
      "execution_count": null,
      "outputs": []
    },
    {
      "cell_type": "markdown",
      "source": [
        "# Name Entity Recognition"
      ],
      "metadata": {
        "id": "k0XmVLdgRWCD"
      }
    },
    {
      "cell_type": "code",
      "source": [
        "ner = pipeline('ner', grouped_entities=True)\n",
        "ner('My name is Mordecai and my friend\\s name is Rigby')"
      ],
      "metadata": {
        "id": "f6l7GJ3oRlPe"
      },
      "execution_count": null,
      "outputs": []
    },
    {
      "cell_type": "markdown",
      "source": [
        "# Question Answering"
      ],
      "metadata": {
        "id": "Jc2re5O_TC61"
      }
    },
    {
      "cell_type": "code",
      "source": [
        "qa = pipeline('question-answering')\n",
        "qa(\n",
        "    question='Where do I work',\n",
        "    context='My name is Mordecai and I work with Skips at HuggingFace in Brooklyn'\n",
        ")"
      ],
      "metadata": {
        "id": "vl9IDu1uRx8R"
      },
      "execution_count": null,
      "outputs": []
    },
    {
      "cell_type": "code",
      "source": [
        "summarizer = pipeline('summarization')\n",
        "summarizer(\n",
        "    '''\n",
        "    Mordecai and Rigby bought 25 kilos of sausage\n",
        "    '''\n",
        ")"
      ],
      "metadata": {
        "id": "C8NRN7xxTByG"
      },
      "execution_count": null,
      "outputs": []
    },
    {
      "cell_type": "markdown",
      "source": [
        "# Translation"
      ],
      "metadata": {
        "id": "Wnx_A5W4TeoC"
      }
    },
    {
      "cell_type": "code",
      "source": [
        "translator = pipeline('translation')"
      ],
      "metadata": {
        "id": "M3g4WgguTggc"
      },
      "execution_count": null,
      "outputs": []
    },
    {
      "cell_type": "markdown",
      "source": [
        "# Image Classification"
      ],
      "metadata": {
        "id": "-xtgpqNuTlsf"
      }
    },
    {
      "cell_type": "code",
      "source": [],
      "metadata": {
        "id": "pu17DA51TmP3"
      },
      "execution_count": null,
      "outputs": []
    },
    {
      "cell_type": "markdown",
      "source": [
        "# Automatic Speech Recognition"
      ],
      "metadata": {
        "id": "ZtkI9rGqT26k"
      }
    },
    {
      "cell_type": "code",
      "source": [
        "transcriber = pipeline(\n",
        "    task='automatic-speech-recognition', model='openai/whisper-large-v3'\n",
        ")\n",
        "\n",
        "result = transcriber(\n",
        "    # smth\n",
        ")\n",
        "\n",
        "print(result)"
      ],
      "metadata": {
        "id": "LNL4PFNzT5f3"
      },
      "execution_count": null,
      "outputs": []
    },
    {
      "cell_type": "code",
      "source": [],
      "metadata": {
        "id": "IgU1IxVmT5jS"
      },
      "execution_count": null,
      "outputs": []
    },
    {
      "cell_type": "code",
      "source": [],
      "metadata": {
        "id": "ebFBKjL3T5Nj"
      },
      "execution_count": null,
      "outputs": []
    }
  ]
}