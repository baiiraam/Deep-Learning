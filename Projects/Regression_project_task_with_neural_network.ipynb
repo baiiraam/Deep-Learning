{
  "nbformat": 4,
  "nbformat_minor": 0,
  "metadata": {
    "colab": {
      "provenance": [],
      "authorship_tag": "ABX9TyMlUuXBD6sAXJcp2RLwC4R4"
    },
    "kernelspec": {
      "name": "python3",
      "display_name": "Python 3"
    },
    "language_info": {
      "name": "python"
    }
  },
  "cells": [
    {
      "cell_type": "markdown",
      "source": [
        "# Regression project task with neural network"
      ],
      "metadata": {
        "id": "zn96L2Zq5nWd"
      }
    },
    {
      "cell_type": "code",
      "source": [
        "import pandas as pd\n",
        "import numpy as np\n",
        "import matplotlib.pyplot as plt"
      ],
      "metadata": {
        "id": "LkDplRkT5yAs"
      },
      "execution_count": null,
      "outputs": []
    },
    {
      "cell_type": "code",
      "source": [
        "import kagglehub\n",
        "\n",
        "# Download latest version\n",
        "path = kagglehub.dataset_download(\"sehriyarmemmedli/turboaz-cars-project\")\n",
        "\n",
        "print(\"Path to dataset files:\", path)\n",
        "\n",
        "df = pd.read_csv(path + '/cars.csv')\n",
        "\n",
        "# looking for data size\n",
        "print(f'shape: {df.shape}')\n",
        "\n",
        "# dropping duplicates (makes up a significant amount of data)\n",
        "df.drop_duplicates(subset=['car_rel_url_x'], keep='last', inplace=True)\n",
        "\n",
        "# looking at data again after duplicate removal\n",
        "print(f'shape after dropping duplicates on car_rel_url_x column: {df.shape}')\n",
        "\n",
        "# even after reducing the data size almost 4 times, it is still huge (~150_000 rows)\n",
        "# to speed up the process, it is favored to work with random sample of data, ~60%\n",
        "df = df.sample(90_000)\n",
        "\n",
        "# checking shape again\n",
        "print(f'last shape: {df.shape}')"
      ],
      "metadata": {
        "colab": {
          "base_uri": "https://localhost:8080/"
        },
        "id": "YGAG-b8H6J9N",
        "outputId": "56432a4c-ab3b-45c9-cae6-9cb145cee950"
      },
      "execution_count": null,
      "outputs": [
        {
          "output_type": "stream",
          "name": "stdout",
          "text": [
            "Warning: Looks like you're using an outdated `kagglehub` version (installed: 0.3.7), please consider upgrading to the latest version (0.3.8).\n",
            "Downloading from https://www.kaggle.com/api/v1/datasets/download/sehriyarmemmedli/turboaz-cars-project?dataset_version_number=1...\n"
          ]
        },
        {
          "output_type": "stream",
          "name": "stderr",
          "text": [
            "100%|██████████| 240M/240M [00:07<00:00, 33.4MB/s]"
          ]
        },
        {
          "output_type": "stream",
          "name": "stdout",
          "text": [
            "Extracting files...\n"
          ]
        },
        {
          "output_type": "stream",
          "name": "stderr",
          "text": [
            "\n"
          ]
        },
        {
          "output_type": "stream",
          "name": "stdout",
          "text": [
            "Path to dataset files: /root/.cache/kagglehub/datasets/sehriyarmemmedli/turboaz-cars-project/versions/1\n",
            "shape: (653721, 56)\n",
            "shape after dropping duplicates on car_rel_url_x column: (154030, 56)\n",
            "last shape: (90000, 56)\n"
          ]
        }
      ]
    },
    {
      "cell_type": "code",
      "source": [
        "# columns to drop :\n",
        "df.drop(columns=['spare_parts', 'vin', 'featured', 'shop_name', 'barter', 'vip', 'owner_name',\\\n",
        "                 'Yerlərin sayı', 'description', 'engine_displacement_unit',\\\n",
        "    'kilometrage_unit', 'phone', 'car_details_id_x', 'car_rel_url', 'views', 'car_details_id_y',\\\n",
        "                 'id_x', 'currency_x', 'price_x', 'datetime_product',\\\n",
        "    'day', 'hour', 'engine_displacement_num', 'kilometrage_num', 'img_url', 'id_y', 'cars_id', 'car_rel_url_y', 'datetime', 'car_rel_url_x',\\\n",
        "             'datetime_scrape', 'updated', 'Rəng', 'Yeni', 'name', 'attributes', 'Şəhər'], inplace=True\n",
        ")\n",
        "\n",
        "# in city column, 'baki', 'gence', 'sumqayit' correspond to ~98% of data. Labeled others with same name,\n",
        "# so that data shape after preprocessing will drop down, and model predictions will be better because it will learn to generalize,\n",
        "# given the huge number of data points that belong to same class.\n",
        "df['city'] = df['city'].apply(lambda x: 'bakı' if x=='bakı' else 'sumqayıt' if x=='sumqayıt' else 'gəncə' if x=='gəncə' else 'rayon')\n",
        "\n",
        "# 25-30 samples contained sm that belong to bikes, getting rid of that will help our model, model will see only one type of it.\n",
        "df['Mühərrik'] = df[~(df['Mühərrik'].str.contains('sm'))]['Mühərrik']\n",
        "\n",
        "# dropping null values in 'Mühərrik' column.\n",
        "df.dropna(subset=['Mühərrik'], inplace=True)\n",
        "\n",
        "# feature engineering of 'Mühərrik' column. Data in this column is like : hecm/at_gucu/yanacaq.\n",
        "# these features need to be extracted.\n",
        "df['muherrik_hecm'] = df['Mühərrik'].apply(lambda x: x.split('/')[0].split(' ')[0].strip())\n",
        "df['muherrik_yanacaq'] = df['Mühərrik'].apply(lambda x: x.split('/')[-1].strip())\n",
        "\n",
        "# Yurus column is numerical(in theory), but in this case it is object type because of string next to it (e.g. 200_000 km)\n",
        "# feature engineering, splitting and pandas operations, apply, lambda, split, replace to make it numerical type.\n",
        "df['Yürüş'] = df['Yürüş'].apply(lambda x: x.split(' km')[0].replace(' ', '')).astype(int)\n",
        "\n",
        "\n",
        "# in 'extra_info' column, representation of different car specific accessories are extracted as individual features.\n",
        "df['Yüngül lehimli disklər'] = df['extra_info'].apply(lambda x: 'He' if 'Yüngül lehimli disklər' in x.split('* ') else 'Yox')\n",
        "df['ABS'] = df['extra_info'].apply(lambda x: 'He' if 'ABS' in x.split('* ') else 'Yox')\n",
        "df['Lyuk'] = df['extra_info'].apply(lambda x: 'He' if 'Lyuk' in x.split('* ') else 'Yox')\n",
        "df['Yağış sensoru'] = df['extra_info'].apply(lambda x: 'He' if 'Yağış sensoru' in x.split('* ') else 'Yox')\n",
        "df['Mərkəzi qapanma'] = df['extra_info'].apply(lambda x: 'He' if 'Mərkəzi qapanma' in x.split('* ') else 'Yox')\n",
        "df['Park radarı'] = df['extra_info'].apply(lambda x: 'He' if 'Park radarı' in x.split('* ') else 'Yox')\n",
        "df['Kondisioner'] = df['extra_info'].apply(lambda x: 'He' if 'Kondisioner' in x.split('* ') else 'Yox')\n",
        "df['Oturacaqların isidilməsi'] = df['extra_info'].apply(lambda x: 'He' if 'Oturacaqların isidilməsi' in x.split('* ') else 'Yox')\n",
        "df['Dəri salon'] = df['extra_info'].apply(lambda x: 'He' if 'Dəri salon' in x.split('* ') else 'Yox')\n",
        "df['Ksenon lampalar'] = df['extra_info'].apply(lambda x: 'He' if 'Ksenon lampalar' in x.split('* ') else 'Yox')\n",
        "df['Arxa görüntü kamerası'] = df['extra_info'].apply(lambda x: 'He' if 'Arxa görüntü kamerası' in x.split('* ') else 'Yox')\n",
        "df['Yan pərdələr'] = df['extra_info'].apply(lambda x: 'He' if 'Yan pərdələr' in x.split('* ') else 'Yox')\n",
        "df['Oturacaqların ventilyasiyası'] = df['extra_info'].apply(lambda x: 'He' if 'Oturacaqların ventilyasiyası' in x.split('* ') else 'Yox')\n",
        "\n",
        "\n",
        "# dropping columns after extracting needed features.\n",
        "if 'extra_info' in df.columns:\n",
        "  df.drop(columns=['extra_info'], inplace=True)\n",
        "\n",
        "if 'Mühərrik' in df.columns:\n",
        "  df.drop(columns=['Mühərrik'], inplace=True)\n",
        "\n",
        "# not necessary, but makes column readable.\n",
        "df['Sahiblər'] = df['Sahiblər'].replace('4 və daha çox', '4+')\n",
        "\n",
        "# currency column has 3 different values: AZN, EUR, USD. Regarding conversions are made.\n",
        "df['price'] = df[['currency_y', 'price_y']].apply(lambda row:  row['price_y']*1.7 if row['currency_y']=='USD' \\\n",
        "                                                  else row['price_y']*2 if row['currency_y']=='EUR' \\\n",
        "                                                  else row['price_y'], axis=1)\n",
        "\n",
        "# needed features were extracted, after that, columns are dropped.\n",
        "df.drop(columns=['price_y', 'currency_y', 'Buraxılış ili'], inplace=True)\n",
        "\n",
        "# filling NaN values (pandas way)\n",
        "df.loc[:, 'Qəzalı'].fillna(value='yox', inplace=True)\n",
        "df.loc[:, 'Sahiblər'].fillna(value='1', inplace=True)\n",
        "df.loc[:, 'Vəziyyəti'].fillna(value='Vuruğu yoxdur, rənglənməyib', inplace=True)\n",
        "df.loc[:, 'loan'].fillna(value='yox', inplace=True)\n",
        "df.loc[:, 'salon'].fillna(value='yox', inplace=True)\n",
        "df.loc[:, 'Hansı bazar üçün yığılıb'].fillna(value='Rəsmi diler', inplace=True)\n",
        "\n",
        "\n",
        "\n",
        "# list(df['Ban növü'].value_counts(normalize=True).sort_values(ascending=False).cumsum()[:8].index) --> Which types are mostly distributed(selected ~0.95)\n",
        "# in below code.\n",
        "\n",
        "df = df[(df['Ban növü']=='Sedan') | (df['Ban növü']=='Offroader / SUV, 5 qapı')\\\n",
        "| (df['Ban növü']=='Hetçbek, 5 qapı') | (df['Ban növü']=='Universal, 5 qapı')\\\n",
        "| (df['Ban növü']=='Liftbek') | (df['Ban növü']=='Furqon')\\\n",
        "| (df['Ban növü']=='Yük maşını') | (df['Ban növü']=='Minivan')]\n",
        "\n",
        "# engine volume max can be ~6.5 in liters, but it will be an outlier, below code kind of implements percentile(0.99)\n",
        "# muherrik_hecm column was object type\n",
        "df['muherrik_hecm'] = pd.to_numeric(df['muherrik_hecm'])\n",
        "df = df[df['muherrik_hecm']<6.5]\n",
        "\n",
        "\n",
        "# Model column has ~1300 different values, Marka ~ 140 (most of them 1-20). One-Hot Encoding them will increase number of dimensions drastically.\n",
        "# Instead, it would be favorable to choose the occurences that happen at least 51 times for Model column, and 21 times for Marka column,\n",
        "# given that these counts make up a little amount and bring outliers with them(could affect model negatively).\n",
        "# Below code does that.\n",
        "\n",
        "a = df['Model'].value_counts().to_frame()[(df['Model'].value_counts()>50)].index.to_list()\n",
        "b = df['Model'].apply(lambda x: x if x in a else -1)\n",
        "df = df[b != (-1)]\n",
        "\n",
        "\n",
        "a = df['Marka'].value_counts().to_frame()[df['Marka'].value_counts()>20].index.to_list()\n",
        "b = df['Marka'].apply(lambda x: x if x in a else -1)\n",
        "df = df[b != (-1)]\n",
        "\n"
      ],
      "metadata": {
        "colab": {
          "base_uri": "https://localhost:8080/"
        },
        "id": "ZknKNHkp6LJO",
        "outputId": "57c5e57e-8d48-485b-9497-550bac6820dc"
      },
      "execution_count": null,
      "outputs": [
        {
          "output_type": "stream",
          "name": "stderr",
          "text": [
            "<ipython-input-3-59af9f3131fe>:66: FutureWarning: A value is trying to be set on a copy of a DataFrame or Series through chained assignment using an inplace method.\n",
            "The behavior will change in pandas 3.0. This inplace method will never work because the intermediate object on which we are setting values always behaves as a copy.\n",
            "\n",
            "For example, when doing 'df[col].method(value, inplace=True)', try using 'df.method({col: value}, inplace=True)' or df[col] = df[col].method(value) instead, to perform the operation inplace on the original object.\n",
            "\n",
            "\n",
            "  df.loc[:, 'Qəzalı'].fillna(value='yox', inplace=True)\n",
            "<ipython-input-3-59af9f3131fe>:67: FutureWarning: A value is trying to be set on a copy of a DataFrame or Series through chained assignment using an inplace method.\n",
            "The behavior will change in pandas 3.0. This inplace method will never work because the intermediate object on which we are setting values always behaves as a copy.\n",
            "\n",
            "For example, when doing 'df[col].method(value, inplace=True)', try using 'df.method({col: value}, inplace=True)' or df[col] = df[col].method(value) instead, to perform the operation inplace on the original object.\n",
            "\n",
            "\n",
            "  df.loc[:, 'Sahiblər'].fillna(value='1', inplace=True)\n",
            "<ipython-input-3-59af9f3131fe>:68: FutureWarning: A value is trying to be set on a copy of a DataFrame or Series through chained assignment using an inplace method.\n",
            "The behavior will change in pandas 3.0. This inplace method will never work because the intermediate object on which we are setting values always behaves as a copy.\n",
            "\n",
            "For example, when doing 'df[col].method(value, inplace=True)', try using 'df.method({col: value}, inplace=True)' or df[col] = df[col].method(value) instead, to perform the operation inplace on the original object.\n",
            "\n",
            "\n",
            "  df.loc[:, 'Vəziyyəti'].fillna(value='Vuruğu yoxdur, rənglənməyib', inplace=True)\n",
            "<ipython-input-3-59af9f3131fe>:69: FutureWarning: A value is trying to be set on a copy of a DataFrame or Series through chained assignment using an inplace method.\n",
            "The behavior will change in pandas 3.0. This inplace method will never work because the intermediate object on which we are setting values always behaves as a copy.\n",
            "\n",
            "For example, when doing 'df[col].method(value, inplace=True)', try using 'df.method({col: value}, inplace=True)' or df[col] = df[col].method(value) instead, to perform the operation inplace on the original object.\n",
            "\n",
            "\n",
            "  df.loc[:, 'loan'].fillna(value='yox', inplace=True)\n",
            "<ipython-input-3-59af9f3131fe>:70: FutureWarning: A value is trying to be set on a copy of a DataFrame or Series through chained assignment using an inplace method.\n",
            "The behavior will change in pandas 3.0. This inplace method will never work because the intermediate object on which we are setting values always behaves as a copy.\n",
            "\n",
            "For example, when doing 'df[col].method(value, inplace=True)', try using 'df.method({col: value}, inplace=True)' or df[col] = df[col].method(value) instead, to perform the operation inplace on the original object.\n",
            "\n",
            "\n",
            "  df.loc[:, 'salon'].fillna(value='yox', inplace=True)\n",
            "<ipython-input-3-59af9f3131fe>:71: FutureWarning: A value is trying to be set on a copy of a DataFrame or Series through chained assignment using an inplace method.\n",
            "The behavior will change in pandas 3.0. This inplace method will never work because the intermediate object on which we are setting values always behaves as a copy.\n",
            "\n",
            "For example, when doing 'df[col].method(value, inplace=True)', try using 'df.method({col: value}, inplace=True)' or df[col] = df[col].method(value) instead, to perform the operation inplace on the original object.\n",
            "\n",
            "\n",
            "  df.loc[:, 'Hansı bazar üçün yığılıb'].fillna(value='Rəsmi diler', inplace=True)\n",
            "<ipython-input-3-59af9f3131fe>:85: SettingWithCopyWarning: \n",
            "A value is trying to be set on a copy of a slice from a DataFrame.\n",
            "Try using .loc[row_indexer,col_indexer] = value instead\n",
            "\n",
            "See the caveats in the documentation: https://pandas.pydata.org/pandas-docs/stable/user_guide/indexing.html#returning-a-view-versus-a-copy\n",
            "  df['muherrik_hecm'] = pd.to_numeric(df['muherrik_hecm'])\n"
          ]
        }
      ]
    },
    {
      "cell_type": "code",
      "source": [
        "X = df.drop('price', axis=1)\n",
        "y = df['price']"
      ],
      "metadata": {
        "id": "URWSyv7b6PzY"
      },
      "execution_count": null,
      "outputs": []
    },
    {
      "cell_type": "code",
      "source": [
        "df.select_dtypes(include=[np.number]).columns"
      ],
      "metadata": {
        "colab": {
          "base_uri": "https://localhost:8080/"
        },
        "id": "s5jylPB-6Ul4",
        "outputId": "ff6224df-2352-4afc-b6a9-ab83c6fa8e55"
      },
      "execution_count": null,
      "outputs": [
        {
          "output_type": "execute_result",
          "data": {
            "text/plain": [
              "Index(['production_year', 'Yürüş', 'muherrik_hecm', 'price'], dtype='object')"
            ]
          },
          "metadata": {},
          "execution_count": 7
        }
      ]
    },
    {
      "cell_type": "code",
      "source": [
        "df.select_dtypes(exclude=[np.number]).columns"
      ],
      "metadata": {
        "colab": {
          "base_uri": "https://localhost:8080/"
        },
        "id": "UDKhoUrN6jLd",
        "outputId": "b48e83e5-d6c6-4aa0-a384-578c8f314240"
      },
      "execution_count": null,
      "outputs": [
        {
          "output_type": "execute_result",
          "data": {
            "text/plain": [
              "Index(['city', 'loan', 'salon', 'Ban növü', 'Hansı bazar üçün yığılıb',\n",
              "       'Marka', 'Model', 'Qəzalı', 'Sahiblər', 'Sürətlər qutusu', 'Vəziyyəti',\n",
              "       'Ötürücü', 'muherrik_yanacaq', 'Yüngül lehimli disklər', 'ABS', 'Lyuk',\n",
              "       'Yağış sensoru', 'Mərkəzi qapanma', 'Park radarı', 'Kondisioner',\n",
              "       'Oturacaqların isidilməsi', 'Dəri salon', 'Ksenon lampalar',\n",
              "       'Arxa görüntü kamerası', 'Yan pərdələr',\n",
              "       'Oturacaqların ventilyasiyası'],\n",
              "      dtype='object')"
            ]
          },
          "metadata": {},
          "execution_count": 8
        }
      ]
    },
    {
      "cell_type": "code",
      "source": [
        "df.iloc[0, :].shape"
      ],
      "metadata": {
        "colab": {
          "base_uri": "https://localhost:8080/"
        },
        "id": "-UMDEhsq8AsM",
        "outputId": "8b466e9b-89f0-482c-cc24-88583a795cab"
      },
      "execution_count": null,
      "outputs": [
        {
          "output_type": "execute_result",
          "data": {
            "text/plain": [
              "(30,)"
            ]
          },
          "metadata": {},
          "execution_count": 12
        }
      ]
    },
    {
      "cell_type": "code",
      "source": [
        "from sklearn.compose import ColumnTransformer\n",
        "from sklearn.preprocessing import OneHotEncoder, StandardScaler\n",
        "from sklearn.model_selection import train_test_split\n",
        "import tensorflow as tf\n",
        "\n",
        "cat_cols = X.select_dtypes(exclude=[np.number]).columns\n",
        "num_cols = X.select_dtypes(include=[np.number]).columns\n",
        "\n",
        "\n",
        "ct = ColumnTransformer(\n",
        "    [\n",
        "        ('cat', OneHotEncoder(sparse_output=False, handle_unknown='ignore'), cat_cols),\n",
        "        ('num', StandardScaler(), num_cols)\n",
        "\n",
        "    ]\n",
        ")\n",
        "\n",
        "X_train, X_test, y_train, y_test = train_test_split(X, y, random_state=42)\n",
        "\n",
        "X_train_transformed = ct.fit_transform(X_train)\n",
        "X_test_transformed = ct.transform(X_test)\n",
        "\n",
        "\n",
        "model = tf.keras.Sequential([\n",
        "    tf.keras.layers.Input(shape = [X_train_transformed.shape[1], ]),\n",
        "    tf.keras.layers.Flatten(),\n",
        "    tf.keras.layers.Dense(300, kernel_initializer = 'he_normal'),\n",
        "    tf.keras.layers.PReLU(),\n",
        "    tf.keras.layers.Dense(100, kernel_initializer='he_normal'),\n",
        "    tf.keras.layers.PReLU(),\n",
        "    tf.keras.layers.Dense(1)\n",
        "])\n",
        "\n",
        "\n",
        "model.compile(\n",
        "    optimizer = tf.keras.optimizers.Adam(),\n",
        "    loss = ['mse'],\n",
        "    metrics = ['RootMeanSquaredError']\n",
        ")\n",
        "\n",
        "model.fit(X_train_transformed, y_train, epochs=10, validation_data = (X_test_transformed, y_test))"
      ],
      "metadata": {
        "colab": {
          "base_uri": "https://localhost:8080/"
        },
        "id": "fYwn9wgD6mYE",
        "outputId": "d2ff5143-5932-4d3f-d17a-2d80dda3d733"
      },
      "execution_count": null,
      "outputs": [
        {
          "output_type": "stream",
          "name": "stdout",
          "text": [
            "Epoch 1/10\n",
            "\u001b[1m1753/1753\u001b[0m \u001b[32m━━━━━━━━━━━━━━━━━━━━\u001b[0m\u001b[37m\u001b[0m \u001b[1m21s\u001b[0m 10ms/step - RootMeanSquaredError: 25677.4727 - loss: 674875328.0000 - val_RootMeanSquaredError: 15547.3359 - val_loss: 241719664.0000\n",
            "Epoch 2/10\n",
            "\u001b[1m1753/1753\u001b[0m \u001b[32m━━━━━━━━━━━━━━━━━━━━\u001b[0m\u001b[37m\u001b[0m \u001b[1m13s\u001b[0m 6ms/step - RootMeanSquaredError: 13660.1992 - loss: 187181040.0000 - val_RootMeanSquaredError: 11980.0537 - val_loss: 143521680.0000\n",
            "Epoch 3/10\n",
            "\u001b[1m1753/1753\u001b[0m \u001b[32m━━━━━━━━━━━━━━━━━━━━\u001b[0m\u001b[37m\u001b[0m \u001b[1m10s\u001b[0m 6ms/step - RootMeanSquaredError: 11415.7549 - loss: 131538888.0000 - val_RootMeanSquaredError: 10053.1133 - val_loss: 101065088.0000\n",
            "Epoch 4/10\n",
            "\u001b[1m1753/1753\u001b[0m \u001b[32m━━━━━━━━━━━━━━━━━━━━\u001b[0m\u001b[37m\u001b[0m \u001b[1m10s\u001b[0m 6ms/step - RootMeanSquaredError: 9997.0938 - loss: 100874000.0000 - val_RootMeanSquaredError: 8745.5850 - val_loss: 76485248.0000\n",
            "Epoch 5/10\n",
            "\u001b[1m1753/1753\u001b[0m \u001b[32m━━━━━━━━━━━━━━━━━━━━\u001b[0m\u001b[37m\u001b[0m \u001b[1m14s\u001b[0m 8ms/step - RootMeanSquaredError: 8336.8447 - loss: 70035896.0000 - val_RootMeanSquaredError: 7841.0703 - val_loss: 61482384.0000\n",
            "Epoch 6/10\n",
            "\u001b[1m1753/1753\u001b[0m \u001b[32m━━━━━━━━━━━━━━━━━━━━\u001b[0m\u001b[37m\u001b[0m \u001b[1m17s\u001b[0m 6ms/step - RootMeanSquaredError: 6851.4614 - loss: 47213996.0000 - val_RootMeanSquaredError: 7202.3765 - val_loss: 51874228.0000\n",
            "Epoch 7/10\n",
            "\u001b[1m1753/1753\u001b[0m \u001b[32m━━━━━━━━━━━━━━━━━━━━\u001b[0m\u001b[37m\u001b[0m \u001b[1m21s\u001b[0m 6ms/step - RootMeanSquaredError: 6472.6909 - loss: 42033624.0000 - val_RootMeanSquaredError: 6744.1968 - val_loss: 45484188.0000\n",
            "Epoch 8/10\n",
            "\u001b[1m1753/1753\u001b[0m \u001b[32m━━━━━━━━━━━━━━━━━━━━\u001b[0m\u001b[37m\u001b[0m \u001b[1m11s\u001b[0m 6ms/step - RootMeanSquaredError: 6300.6294 - loss: 39867324.0000 - val_RootMeanSquaredError: 6320.1001 - val_loss: 39943668.0000\n",
            "Epoch 9/10\n",
            "\u001b[1m1753/1753\u001b[0m \u001b[32m━━━━━━━━━━━━━━━━━━━━\u001b[0m\u001b[37m\u001b[0m \u001b[1m20s\u001b[0m 6ms/step - RootMeanSquaredError: 6201.2695 - loss: 38677252.0000 - val_RootMeanSquaredError: 6223.7280 - val_loss: 38734792.0000\n",
            "Epoch 10/10\n",
            "\u001b[1m1753/1753\u001b[0m \u001b[32m━━━━━━━━━━━━━━━━━━━━\u001b[0m\u001b[37m\u001b[0m \u001b[1m11s\u001b[0m 6ms/step - RootMeanSquaredError: 5627.9922 - loss: 31806642.0000 - val_RootMeanSquaredError: 5915.4971 - val_loss: 34993108.0000\n"
          ]
        },
        {
          "output_type": "execute_result",
          "data": {
            "text/plain": [
              "<keras.src.callbacks.history.History at 0x7bdd3c03c050>"
            ]
          },
          "metadata": {},
          "execution_count": 23
        }
      ]
    },
    {
      "cell_type": "code",
      "source": [
        "plt.plot(model.history.history['loss'])\n",
        "plt.plot(model.history.history['val_loss'])\n",
        "plt.show()"
      ],
      "metadata": {
        "colab": {
          "base_uri": "https://localhost:8080/",
          "height": 445
        },
        "id": "L3f_vpJ3-mda",
        "outputId": "8ccf1c9a-c891-424d-c502-4592b154f0f6"
      },
      "execution_count": null,
      "outputs": [
        {
          "output_type": "display_data",
          "data": {
            "text/plain": [
              "<Figure size 640x480 with 1 Axes>"
            ],
            "image/png": "[encoded data removed]"
          },
          "metadata": {}
        }
      ]
    }
  ]
}